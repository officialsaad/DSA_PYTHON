{
 "cells": [
  {
   "cell_type": "markdown",
   "metadata": {},
   "source": [
    "# Data Structure and Algorithm "
   ]
  },
  {
   "cell_type": "markdown",
   "metadata": {},
   "source": [
    "## Fibonacci Series\n",
    "1. To generate a Fibonacci number, all we need to do is to add the two previous Fibonacci numbers."
   ]
  },
  {
   "cell_type": "markdown",
   "metadata": {},
   "source": [
    "### *Implementation using For loop*"
   ]
  },
  {
   "cell_type": "code",
   "execution_count": 2,
   "metadata": {},
   "outputs": [
    {
     "name": "stdout",
     "output_type": "stream",
     "text": [
      "First Number : 0     Second Number: 1\n",
      "1\n",
      "2\n",
      "3\n",
      "5\n",
      "8\n",
      "13\n",
      "21\n",
      "34\n",
      "55\n",
      "89\n",
      "144\n",
      "233\n",
      "377\n",
      "610\n",
      "987\n",
      "1597\n",
      "2584\n"
     ]
    }
   ],
   "source": [
    "def fib(previous_1 = 1, previous_2 = 0, length = 17):\n",
    "    print(\"First Number :\",previous_2 ,\"   \" ,\"Second Number:\", previous_1)\n",
    "    for i in range(1,length):\n",
    "        new_fib = previous_1 + previous_2\n",
    "        previous_2 = previous_1\n",
    "        previous_1 = new_fib\n",
    "        print(new_fib)\n",
    "\n",
    "fib(1,0,18)"
   ]
  },
  {
   "cell_type": "code",
   "execution_count": 34,
   "metadata": {},
   "outputs": [
    {
     "name": "stdout",
     "output_type": "stream",
     "text": [
      "First Number : 0     Second Number: 18\n",
      "18\n",
      "36\n",
      "54\n",
      "90\n",
      "144\n",
      "234\n",
      "378\n",
      "612\n",
      "990\n",
      "1602\n",
      "2592\n",
      "4194\n",
      "6786\n",
      "10980\n",
      "17766\n",
      "28746\n",
      "46512\n"
     ]
    }
   ],
   "source": []
  },
  {
   "cell_type": "markdown",
   "metadata": {},
   "source": [
    "### *Implementation using while loop*"
   ]
  },
  {
   "cell_type": "code",
   "execution_count": 37,
   "metadata": {},
   "outputs": [],
   "source": [
    "def fib(previous_1 = 1, previous_2 = 0, length = 17):\n",
    "    i = 0\n",
    "    print(\"First Number :\",previous_2 ,\"   \" ,\"Second Number:\", previous_1)\n",
    "    while i < length:\n",
    "        new_fib = previous_1 + previous_2\n",
    "        previous_2 = previous_1\n",
    "        previous_1 = new_fib\n",
    "        print(new_fib)\n",
    "        i += 1\n",
    "    return"
   ]
  },
  {
   "cell_type": "code",
   "execution_count": 38,
   "metadata": {},
   "outputs": [
    {
     "name": "stdout",
     "output_type": "stream",
     "text": [
      "First Number : 0     Second Number: 1\n",
      "1\n",
      "2\n",
      "3\n",
      "5\n",
      "8\n",
      "13\n",
      "21\n",
      "34\n",
      "55\n",
      "89\n",
      "144\n",
      "233\n",
      "377\n",
      "610\n",
      "987\n",
      "1597\n",
      "2584\n"
     ]
    }
   ],
   "source": [
    "fib()"
   ]
  },
  {
   "cell_type": "markdown",
   "metadata": {},
   "source": [
    "### *Implementation using recursion*"
   ]
  },
  {
   "cell_type": "code",
   "execution_count": 25,
   "metadata": {},
   "outputs": [
    {
     "data": {
      "text/plain": [
       "2584"
      ]
     },
     "execution_count": 25,
     "metadata": {},
     "output_type": "execute_result"
    }
   ],
   "source": [
    "def fib(n = 0):\n",
    "    if n <= 1:\n",
    "        return n\n",
    "    else:\n",
    "        return fib(n-1) + fib(n-2)\n",
    "\n",
    "fib(18)"
   ]
  },
  {
   "cell_type": "markdown",
   "metadata": {},
   "source": [
    "### *Find the new Fibonacci Number by adding previous two*"
   ]
  },
  {
   "cell_type": "code",
   "execution_count": null,
   "metadata": {},
   "outputs": [],
   "source": [
    "def fib(pre1,pre2):\n",
    "    return pre1+pre2\n",
    "    "
   ]
  },
  {
   "cell_type": "markdown",
   "metadata": {},
   "source": [
    "### \n",
    "Finding The n\n",
    "th Fibonacci Number Using Recursion\n",
    "To find the \n",
    "n\n",
    "th Fibonacci number we can write code based on the mathematic formula for Fibonacci number \n",
    "n\n",
    ":\n",
    "\n",
    "F\n",
    "(\n",
    "n\n",
    ")\n",
    "=\n",
    "F\n",
    "(\n",
    "n\n",
    "−\n",
    "1\n",
    ")\n",
    "+\n",
    "F\n",
    "(\n",
    "n\n",
    "−\n",
    "2\n",
    ")\n",
    "\n",
    "This just means that for example the 10th Fibonacci number is the sum of the 9th and 8th Fibonacci numbers.\n"
   ]
  }
 ],
 "metadata": {
  "kernelspec": {
   "display_name": "Python 3",
   "language": "python",
   "name": "python3"
  },
  "language_info": {
   "codemirror_mode": {
    "name": "ipython",
    "version": 3
   },
   "file_extension": ".py",
   "mimetype": "text/x-python",
   "name": "python",
   "nbconvert_exporter": "python",
   "pygments_lexer": "ipython3",
   "version": "3.10.0"
  }
 },
 "nbformat": 4,
 "nbformat_minor": 2
}
